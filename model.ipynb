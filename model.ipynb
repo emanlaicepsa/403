{
 "cells": [
  {
   "cell_type": "code",
   "execution_count": 1,
   "metadata": {},
   "outputs": [
    {
     "name": "stderr",
     "output_type": "stream",
     "text": [
      "Using TensorFlow backend.\n"
     ]
    },
    {
     "name": "stdout",
     "output_type": "stream",
     "text": [
      "Model: \"sequential_1\"\n",
      "_________________________________________________________________\n",
      "Layer (type)                 Output Shape              Param #   \n",
      "=================================================================\n",
      "conv2d_1 (Conv2D)            (None, 148, 148, 32)      896       \n",
      "_________________________________________________________________\n",
      "activation_1 (Activation)    (None, 148, 148, 32)      0         \n",
      "_________________________________________________________________\n",
      "max_pooling2d_1 (MaxPooling2 (None, 74, 74, 32)        0         \n",
      "_________________________________________________________________\n",
      "conv2d_2 (Conv2D)            (None, 72, 72, 32)        9248      \n",
      "_________________________________________________________________\n",
      "activation_2 (Activation)    (None, 72, 72, 32)        0         \n",
      "_________________________________________________________________\n",
      "max_pooling2d_2 (MaxPooling2 (None, 36, 36, 32)        0         \n",
      "_________________________________________________________________\n",
      "conv2d_3 (Conv2D)            (None, 34, 34, 64)        18496     \n",
      "_________________________________________________________________\n",
      "activation_3 (Activation)    (None, 34, 34, 64)        0         \n",
      "_________________________________________________________________\n",
      "max_pooling2d_3 (MaxPooling2 (None, 17, 17, 64)        0         \n",
      "_________________________________________________________________\n",
      "flatten_1 (Flatten)          (None, 18496)             0         \n",
      "_________________________________________________________________\n",
      "dense_1 (Dense)              (None, 64)                1183808   \n",
      "_________________________________________________________________\n",
      "activation_4 (Activation)    (None, 64)                0         \n",
      "_________________________________________________________________\n",
      "dropout_1 (Dropout)          (None, 64)                0         \n",
      "_________________________________________________________________\n",
      "dense_2 (Dense)              (None, 5)                 325       \n",
      "_________________________________________________________________\n",
      "activation_5 (Activation)    (None, 5)                 0         \n",
      "=================================================================\n",
      "Total params: 1,212,773\n",
      "Trainable params: 1,212,773\n",
      "Non-trainable params: 0\n",
      "_________________________________________________________________\n"
     ]
    },
    {
     "name": "stderr",
     "output_type": "stream",
     "text": [
      "//anaconda3/lib/python3.7/site-packages/keras/callbacks/tensorboard_v2.py:97: UserWarning: The TensorBoard callback does not support gradients display when using TensorFlow 2.0. The `write_grads` argument is ignored.\n",
      "  warnings.warn('The TensorBoard callback does not support '\n"
     ]
    },
    {
     "name": "stdout",
     "output_type": "stream",
     "text": [
      "Found 2382 images belonging to 5 classes.\n",
      "Found 594 images belonging to 5 classes.\n"
     ]
    }
   ],
   "source": [
    "from keras.preprocessing.image import ImageDataGenerator \n",
    "from keras.models import Sequential \n",
    "from keras.layers import Conv2D, MaxPooling2D \n",
    "from keras.layers import Activation, Dropout, Flatten, Dense \n",
    "from keras import backend as K\n",
    "\n",
    "from keras.callbacks import TensorBoard\n",
    "# dimensions of our images. \n",
    "img_width, img_height = 150, 150\n",
    "\n",
    "train_data_dir = 'dataset/train'\n",
    "validation_data_dir = 'dataset/validation'\n",
    "\n",
    "nb_train_samples = 2388\n",
    "nb_validation_samples = 600\n",
    "epochs = 12\n",
    "batch_size = 249\n",
    "\n",
    "if K.image_data_format() == 'channels_first': \n",
    "    input_shape = (3, img_width, img_height) \n",
    "else: \n",
    "    input_shape = (img_width, img_height, 3) \n",
    "    \n",
    "model = Sequential() \n",
    "model.add(Conv2D(32, (3, 3), input_shape=input_shape)) \n",
    "model.add(Activation('relu')) \n",
    "model.add(MaxPooling2D(pool_size=(2, 2))) \n",
    "\n",
    "model.add(Conv2D(32, (3, 3))) \n",
    "model.add(Activation('relu')) \n",
    "model.add(MaxPooling2D(pool_size=(2, 2))) \n",
    "\n",
    "model.add(Conv2D(64, (3, 3))) \n",
    "model.add(Activation('relu')) \n",
    "model.add(MaxPooling2D(pool_size=(2, 2))) \n",
    "\n",
    "model.add(Flatten()) \n",
    "model.add(Dense(64)) \n",
    "model.add(Activation('relu')) \n",
    "model.add(Dropout(0.5)) \n",
    "model.add(Dense(5)) #5分类 \n",
    "model.add(Activation('softmax')) #采用Softmax \n",
    "\n",
    "model.summary()\n",
    "\n",
    "model.compile(loss='categorical_crossentropy', #多分类 \n",
    "              optimizer='rmsprop', \n",
    "              metrics=['accuracy']) \n",
    "\n",
    "tbCallBack = TensorBoard(log_dir='./logs',  # log 目录\n",
    "                 histogram_freq=0,  # 按照何等频率（epoch）来计算直方图，0为不计算\n",
    "#                  batch_size=32,     # 用多大量的数据计算直方图\n",
    "                 write_graph=True,  # 是否存储网络结构图\n",
    "                 write_grads=True, # 是否可视化梯度直方图\n",
    "                 write_images=True,# 是否可视化参数\n",
    "                 embeddings_freq=0, \n",
    "                 embeddings_layer_names=None, \n",
    "                 embeddings_metadata=None)\n",
    "\n",
    "# this is the augmentation configuration we will use for training \n",
    "train_datagen = ImageDataGenerator( \n",
    "    rescale=1. / 255, \n",
    "    shear_range=0.2, \n",
    "    zoom_range=0.2, \n",
    "    horizontal_flip=True) \n",
    "\n",
    "# this is the augmentation configuration we will use for testing: \n",
    "# only rescaling \n",
    "test_datagen = ImageDataGenerator(rescale=1. / 255) \n",
    "\n",
    "train_generator = train_datagen.flow_from_directory( \n",
    "    train_data_dir, \n",
    "    target_size=(img_width, img_height), \n",
    "    batch_size=batch_size, \n",
    "    class_mode='categorical') #多分类 \n",
    "\n",
    "validation_generator = test_datagen.flow_from_directory( \n",
    "    validation_data_dir, \n",
    "    target_size=(img_width, img_height), \n",
    "    batch_size=batch_size, \n",
    "    class_mode='categorical') #多分类 "
   ]
  },
  {
   "cell_type": "code",
   "execution_count": 2,
   "metadata": {},
   "outputs": [
    {
     "name": "stdout",
     "output_type": "stream",
     "text": [
      "Epoch 1/12\n",
      "9/9 [==============================] - 157s 17s/step - loss: 2.4818 - accuracy: 0.6033 - val_loss: 0.8725 - val_accuracy: 0.6446\n",
      "Epoch 2/12\n",
      "9/9 [==============================] - 128s 14s/step - loss: 0.8278 - accuracy: 0.7032 - val_loss: 0.8599 - val_accuracy: 0.7420\n",
      "Epoch 3/12\n",
      "9/9 [==============================] - 146s 16s/step - loss: 0.5671 - accuracy: 0.8211 - val_loss: 0.6182 - val_accuracy: 0.8986\n",
      "Epoch 4/12\n",
      "9/9 [==============================] - 131s 15s/step - loss: 0.3067 - accuracy: 0.9077 - val_loss: 0.3706 - val_accuracy: 0.8795\n",
      "Epoch 5/12\n",
      "9/9 [==============================] - 157s 17s/step - loss: 0.5170 - accuracy: 0.8411 - val_loss: 0.0668 - val_accuracy: 1.0000\n",
      "Epoch 6/12\n",
      "9/9 [==============================] - 128s 14s/step - loss: 0.1648 - accuracy: 0.9527 - val_loss: 0.1501 - val_accuracy: 0.9855\n",
      "Epoch 7/12\n",
      "9/9 [==============================] - 128s 14s/step - loss: 0.1405 - accuracy: 0.9522 - val_loss: 0.0087 - val_accuracy: 0.9980\n",
      "Epoch 8/12\n",
      "9/9 [==============================] - 132s 15s/step - loss: 0.1096 - accuracy: 0.9677 - val_loss: 0.0205 - val_accuracy: 0.9942\n",
      "Epoch 9/12\n",
      "9/9 [==============================] - 121s 13s/step - loss: 0.0572 - accuracy: 0.9845 - val_loss: 0.0031 - val_accuracy: 1.0000\n",
      "Epoch 10/12\n",
      "9/9 [==============================] - 135s 15s/step - loss: 0.2570 - accuracy: 0.9456 - val_loss: 0.0061 - val_accuracy: 1.0000\n",
      "Epoch 11/12\n",
      "9/9 [==============================] - 135s 15s/step - loss: 0.0512 - accuracy: 0.9883 - val_loss: 0.0013 - val_accuracy: 1.0000\n",
      "Epoch 12/12\n",
      "9/9 [==============================] - 134s 15s/step - loss: 0.0437 - accuracy: 0.9864 - val_loss: 0.0011 - val_accuracy: 1.0000\n"
     ]
    },
    {
     "data": {
      "text/plain": [
       "<keras.callbacks.callbacks.History at 0x1100d7be0>"
      ]
     },
     "execution_count": 2,
     "metadata": {},
     "output_type": "execute_result"
    }
   ],
   "source": [
    "from time import time\n",
    "from tensorflow.python.keras.callbacks import TensorBoard\n",
    "\n",
    "model.fit_generator( \n",
    "    train_generator, \n",
    "    steps_per_epoch=nb_train_samples // batch_size, \n",
    "    epochs=epochs, \n",
    "    callbacks=[tbCallBack],\n",
    "    validation_data=validation_generator, \n",
    "    validation_steps=nb_validation_samples // batch_size)"
   ]
  },
  {
   "cell_type": "code",
   "execution_count": null,
   "metadata": {
    "scrolled": true
   },
   "outputs": [],
   "source": [
    "#tensorboard --logdir ./logs "
   ]
  },
  {
   "cell_type": "code",
   "execution_count": 4,
   "metadata": {},
   "outputs": [],
   "source": [
    "model.save('All.h5')"
   ]
  },
  {
   "cell_type": "code",
   "execution_count": null,
   "metadata": {},
   "outputs": [],
   "source": [
    "import numpy as np\n",
    "from keras.preprocessing import image\n",
    "img = 'test/IMG_2922.jpg'\n",
    "\n",
    "img = image.load_img(img, target_size=(150,150))\n",
    "img.show()\n",
    "\n",
    "x = image.img_to_array(img)\n",
    "\n",
    "x = np.expand_dims(x, axis=0)\n",
    "#x = preprocess_input(x)\n",
    "\n",
    "result = model.predict(x)\n",
    "print(result)\n",
    "\n",
    "Max = 0.0\n",
    "for j in result:\n",
    "    for i, c in enumerate(j):\n",
    "        if c > Max:\n",
    "            print(c, Max)\n",
    "            Max = i\n",
    "            a = i\n",
    "        \n",
    "print(a)\n",
    "\n",
    "if a == 0:\n",
    "    print('addidas')\n",
    "    \n",
    "elif a == 1:\n",
    "    print('pierre cardin')\n",
    "    \n",
    "elif a == 2:\n",
    "    print('春水堂')\n",
    "    \n",
    "elif a == 3:\n",
    "    print('幸福台灣')\n",
    "    \n",
    "elif a == 4:\n",
    "    print('Timberland')\n",
    "    \n",
    "else:\n",
    "    raise IndexError"
   ]
  },
  {
   "cell_type": "code",
   "execution_count": null,
   "metadata": {},
   "outputs": [],
   "source": []
  }
 ],
 "metadata": {
  "kernelspec": {
   "display_name": "Python 3",
   "language": "python",
   "name": "python3"
  },
  "language_info": {
   "codemirror_mode": {
    "name": "ipython",
    "version": 3
   },
   "file_extension": ".py",
   "mimetype": "text/x-python",
   "name": "python",
   "nbconvert_exporter": "python",
   "pygments_lexer": "ipython3",
   "version": "3.7.3"
  }
 },
 "nbformat": 4,
 "nbformat_minor": 2
}
