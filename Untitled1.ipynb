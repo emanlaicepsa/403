{
 "cells": [
  {
   "cell_type": "code",
   "execution_count": 23,
   "metadata": {},
   "outputs": [
    {
     "name": "stdout",
     "output_type": "stream",
     "text": [
      "num_train: 33\n",
      "[0, 1, 2, 3, 4, 5, 6, 7, 8, 9, 10, 11, 12, 13, 14, 15, 16, 17, 18, 19, 20, 21, 22, 23, 24, 25, 26, 27, 28, 29, 30, 31, 32]\n",
      "simple_data/addidas/5.jpg\n",
      "simple_data/addidas/10_0.jpg\n",
      "simple_data/addidas/6_1.jpg\n",
      "simple_data/addidas/5_0.jpg\n",
      "simple_data/addidas/9_1.jpg\n",
      "simple_data/addidas/1_1.jpg\n",
      "simple_data/addidas/7_1.jpg\n",
      "simple_data/addidas/9.jpg\n",
      "simple_data/addidas/6_0.jpg\n",
      "simple_data/addidas/11_1.jpg\n",
      "simple_data/addidas/3_0.jpg\n",
      "simple_data/addidas/2_0.jpg\n",
      "simple_data/addidas/6.jpg\n",
      "simple_data/addidas/2.jpg\n",
      "simple_data/addidas/8_1.jpg\n",
      "simple_data/addidas/5_1.jpg\n",
      "simple_data/addidas/8.jpg\n",
      "simple_data/addidas/3.jpg\n",
      "simple_data/addidas/1_0.jpg\n",
      "simple_data/addidas/2_1.jpg\n",
      "simple_data/addidas/1.jpg\n",
      "simple_data/addidas/10.jpg\n",
      "simple_data/addidas/4_1.jpg\n",
      "simple_data/addidas/4.jpg\n",
      "simple_data/addidas/9_0.jpg\n",
      "simple_data/addidas/3_1.jpg\n",
      "simple_data/addidas/8_0.jpg\n"
     ]
    }
   ],
   "source": [
    "import os\n",
    "import random\n",
    "import shutil\n",
    "from shutil import copy2\n",
    "\n",
    "trainfiles = os.listdir('simple_data/春水堂')\n",
    "num_train = len(trainfiles)\n",
    "print( \"num_train: \" + str(num_train) )\n",
    "index_list = list(range(num_train))\n",
    "print(index_list)\n",
    "random.shuffle(index_list)\n",
    "num = 0\n",
    "\n",
    "trainDir = 'simple_data/train/addidas'\n",
    "validDir = 'simple_data/validation/addidas'\n",
    "for i in index_list:\n",
    "    fileName = os.path.join('simple_data/addidas', trainfiles[i])\n",
    "    if num < num_train*0.8:\n",
    "        print(str(fileName))\n",
    "        copy2(fileName, trainDir)\n",
    "    else:\n",
    "        copy2(fileName, validDir)\n",
    "    num += 1\n"
   ]
  },
  {
   "cell_type": "code",
   "execution_count": 18,
   "metadata": {},
   "outputs": [
    {
     "ename": "FileNotFoundError",
     "evalue": "[Errno 2] No such file or directory: 'simple_data/幸福台灣/9.jpg'",
     "output_type": "error",
     "traceback": [
      "\u001b[0;31m---------------------------------------------------------------------------\u001b[0m",
      "\u001b[0;31mFileNotFoundError\u001b[0m                         Traceback (most recent call last)",
      "\u001b[0;32m<ipython-input-18-1117e806dda2>\u001b[0m in \u001b[0;36m<module>\u001b[0;34m\u001b[0m\n\u001b[1;32m      7\u001b[0m \u001b[0;32mfor\u001b[0m \u001b[0mfile\u001b[0m \u001b[0;32min\u001b[0m \u001b[0mDir\u001b[0m\u001b[0;34m:\u001b[0m\u001b[0;34m\u001b[0m\u001b[0;34m\u001b[0m\u001b[0m\n\u001b[1;32m      8\u001b[0m     \u001b[0murl\u001b[0m \u001b[0;34m=\u001b[0m \u001b[0mDir\u001b[0m \u001b[0;34m+\u001b[0m \u001b[0mstr\u001b[0m\u001b[0;34m(\u001b[0m\u001b[0mx\u001b[0m\u001b[0;34m)\u001b[0m\u001b[0;34m\u001b[0m\u001b[0;34m\u001b[0m\u001b[0m\n\u001b[0;32m----> 9\u001b[0;31m     \u001b[0mim\u001b[0m \u001b[0;34m=\u001b[0m \u001b[0mImage\u001b[0m\u001b[0;34m.\u001b[0m\u001b[0mopen\u001b[0m\u001b[0;34m(\u001b[0m\u001b[0murl\u001b[0m \u001b[0;34m+\u001b[0m \u001b[0;34m\".jpg\"\u001b[0m\u001b[0;34m)\u001b[0m\u001b[0;34m\u001b[0m\u001b[0;34m\u001b[0m\u001b[0m\n\u001b[0m\u001b[1;32m     10\u001b[0m \u001b[0;34m\u001b[0m\u001b[0m\n\u001b[1;32m     11\u001b[0m     \u001b[0mim\u001b[0m\u001b[0;34m.\u001b[0m\u001b[0msave\u001b[0m\u001b[0;34m(\u001b[0m \u001b[0murl\u001b[0m \u001b[0;34m+\u001b[0m \u001b[0;34m'_0.jpg'\u001b[0m\u001b[0;34m)\u001b[0m\u001b[0;34m\u001b[0m\u001b[0;34m\u001b[0m\u001b[0m\n",
      "\u001b[0;32m//anaconda3/lib/python3.7/site-packages/PIL/Image.py\u001b[0m in \u001b[0;36mopen\u001b[0;34m(fp, mode)\u001b[0m\n\u001b[1;32m   2768\u001b[0m \u001b[0;34m\u001b[0m\u001b[0m\n\u001b[1;32m   2769\u001b[0m     \u001b[0;32mif\u001b[0m \u001b[0mfilename\u001b[0m\u001b[0;34m:\u001b[0m\u001b[0;34m\u001b[0m\u001b[0;34m\u001b[0m\u001b[0m\n\u001b[0;32m-> 2770\u001b[0;31m         \u001b[0mfp\u001b[0m \u001b[0;34m=\u001b[0m \u001b[0mbuiltins\u001b[0m\u001b[0;34m.\u001b[0m\u001b[0mopen\u001b[0m\u001b[0;34m(\u001b[0m\u001b[0mfilename\u001b[0m\u001b[0;34m,\u001b[0m \u001b[0;34m\"rb\"\u001b[0m\u001b[0;34m)\u001b[0m\u001b[0;34m\u001b[0m\u001b[0;34m\u001b[0m\u001b[0m\n\u001b[0m\u001b[1;32m   2771\u001b[0m         \u001b[0mexclusive_fp\u001b[0m \u001b[0;34m=\u001b[0m \u001b[0;32mTrue\u001b[0m\u001b[0;34m\u001b[0m\u001b[0;34m\u001b[0m\u001b[0m\n\u001b[1;32m   2772\u001b[0m \u001b[0;34m\u001b[0m\u001b[0m\n",
      "\u001b[0;31mFileNotFoundError\u001b[0m: [Errno 2] No such file or directory: 'simple_data/幸福台灣/9.jpg'"
     ]
    }
   ],
   "source": [
    "from PIL import Image\n",
    "\n",
    "Dir = 'simple_data/幸福台灣/'\n",
    "\n",
    "x = 1\n",
    "for file in Dir:\n",
    "    url = Dir + str(x)\n",
    "    im = Image.open(url + \".jpg\")\n",
    "    \n",
    "    im.save( url + '_0.jpg')\n",
    "    \n",
    "    im = im.rotate(-180)\n",
    "    im.save( url + '_1.jpg')\n",
    "                  \n",
    "    x += 1"
   ]
  },
  {
   "cell_type": "code",
   "execution_count": null,
   "metadata": {},
   "outputs": [],
   "source": []
  }
 ],
 "metadata": {
  "kernelspec": {
   "display_name": "Python 3",
   "language": "python",
   "name": "python3"
  },
  "language_info": {
   "codemirror_mode": {
    "name": "ipython",
    "version": 3
   },
   "file_extension": ".py",
   "mimetype": "text/x-python",
   "name": "python",
   "nbconvert_exporter": "python",
   "pygments_lexer": "ipython3",
   "version": "3.7.3"
  }
 },
 "nbformat": 4,
 "nbformat_minor": 2
}
