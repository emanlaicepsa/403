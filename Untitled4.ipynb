{
 "cells": [
  {
   "cell_type": "code",
   "execution_count": 1,
   "metadata": {},
   "outputs": [
    {
     "name": "stderr",
     "output_type": "stream",
     "text": [
      "usage: ipykernel_launcher.py [-h] -i DATASET__ADDIDAS\n",
      "ipykernel_launcher.py: error: the following arguments are required: -i/--dataset--addidas\n"
     ]
    },
    {
     "ename": "SystemExit",
     "evalue": "2",
     "output_type": "error",
     "traceback": [
      "An exception has occurred, use %tb to see the full traceback.\n",
      "\u001b[0;31mSystemExit\u001b[0m\u001b[0;31m:\u001b[0m 2\n"
     ]
    },
    {
     "name": "stderr",
     "output_type": "stream",
     "text": [
      "//anaconda3/lib/python3.7/site-packages/IPython/core/interactiveshell.py:3333: UserWarning: To exit: use 'exit', 'quit', or Ctrl-D.\n",
      "  warn(\"To exit: use 'exit', 'quit', or Ctrl-D.\", stacklevel=1)\n"
     ]
    }
   ],
   "source": [
    "import numpy as np #1\n",
    "import argparse #2\n",
    "import imutils #3\n",
    "import cv2 #4\n",
    " \n",
    "ap = argparse.ArgumentParser() #5\n",
    "ap.add_argument(\"-i\", \"--dataset--addidas\", required = True,\n",
    "    help = \"Path to the image\") #6\n",
    "args = vars(ap.parse_args()) #7\n",
    " \n",
    "image = cv2.imread(args[\"image\"]) #8\n",
    "cv2.imshow(\"Original\", image) #9\n",
    " \n",
    "(h, w) = image.shape[:2] #10\n",
    "center = (w // 2, h // 2) #11\n",
    " \n",
    "M = cv2.getRotationMatrix2D(center, 45, 1.0) #12\n",
    "rotated = cv2.warpAffine(image, M, (w, h)) #13\n",
    "cv2.imshow(\"Rotated by 45 Degrees\", rotated) #14\n",
    " \n",
    "M = cv2.getRotationMatrix2D(center, -315, 1.0) #15\n",
    "rotated = cv2.warpAffine(image, M, (w, h)) #16\n",
    "cv2.imshow(\"Rotated by -315 Degrees\", rotated) #17\n",
    " \n",
    "rotated = imutils.rotate(image, 0) #18\n",
    "cv2.imshow(\"Rotated by 0 Degrees\", rotated) #19\n",
    "cv2.waitKey(0) #20\n"
   ]
  },
  {
   "cell_type": "code",
   "execution_count": null,
   "metadata": {},
   "outputs": [],
   "source": []
  }
 ],
 "metadata": {
  "kernelspec": {
   "display_name": "Python 3",
   "language": "python",
   "name": "python3"
  },
  "language_info": {
   "codemirror_mode": {
    "name": "ipython",
    "version": 3
   },
   "file_extension": ".py",
   "mimetype": "text/x-python",
   "name": "python",
   "nbconvert_exporter": "python",
   "pygments_lexer": "ipython3",
   "version": "3.7.3"
  }
 },
 "nbformat": 4,
 "nbformat_minor": 2
}
