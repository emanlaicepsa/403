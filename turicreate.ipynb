{
 "cells": [
  {
   "cell_type": "code",
   "execution_count": 1,
   "metadata": {},
   "outputs": [],
   "source": [
    "import turicreate as tc\n",
    "image_folder = 'littler'"
   ]
  },
  {
   "cell_type": "code",
   "execution_count": 2,
   "metadata": {},
   "outputs": [
    {
     "data": {
      "text/html": [
       "<pre>Read 1720 images in 5.00566 secs\tspeed: 343.611 file/sec</pre>"
      ],
      "text/plain": [
       "Read 1720 images in 5.00566 secs\tspeed: 343.611 file/sec"
      ]
     },
     "metadata": {},
     "output_type": "display_data"
    }
   ],
   "source": [
    "data = tc.image_analysis.load_images(image_folder,with_path=True)"
   ]
  },
  {
   "cell_type": "code",
   "execution_count": 3,
   "metadata": {},
   "outputs": [],
   "source": [
    "data['label'] = data['path'].apply(lambda path: 'Timberland' if 'Timberland' in path else 'addidas') "
   ]
  },
  {
   "cell_type": "code",
   "execution_count": 4,
   "metadata": {},
   "outputs": [],
   "source": [
    "data = data.add_row_number()"
   ]
  },
  {
   "cell_type": "code",
   "execution_count": 5,
   "metadata": {},
   "outputs": [],
   "source": [
    "data.save('littler.sframe')"
   ]
  },
  {
   "cell_type": "code",
   "execution_count": 6,
   "metadata": {},
   "outputs": [],
   "source": [
    "train_data, test_data = data.random_split(0.8, seed=2)"
   ]
  },
  {
   "cell_type": "code",
   "execution_count": 7,
   "metadata": {},
   "outputs": [
    {
     "data": {
      "text/html": [
       "<pre>Analyzing and extracting image features.</pre>"
      ],
      "text/plain": [
       "Analyzing and extracting image features."
      ]
     },
     "metadata": {},
     "output_type": "display_data"
    },
    {
     "data": {
      "text/html": [
       "<pre>+------------------+--------------+------------------+</pre>"
      ],
      "text/plain": [
       "+------------------+--------------+------------------+"
      ]
     },
     "metadata": {},
     "output_type": "display_data"
    },
    {
     "data": {
      "text/html": [
       "<pre>| Images Processed | Elapsed Time | Percent Complete |</pre>"
      ],
      "text/plain": [
       "| Images Processed | Elapsed Time | Percent Complete |"
      ]
     },
     "metadata": {},
     "output_type": "display_data"
    },
    {
     "data": {
      "text/html": [
       "<pre>+------------------+--------------+------------------+</pre>"
      ],
      "text/plain": [
       "+------------------+--------------+------------------+"
      ]
     },
     "metadata": {},
     "output_type": "display_data"
    },
    {
     "data": {
      "text/html": [
       "<pre>| 64               | 1m 56s       | 3.25%            |</pre>"
      ],
      "text/plain": [
       "| 64               | 1m 56s       | 3.25%            |"
      ]
     },
     "metadata": {},
     "output_type": "display_data"
    },
    {
     "data": {
      "text/html": [
       "<pre>| 128              | 1m 57s       | 6.5%             |</pre>"
      ],
      "text/plain": [
       "| 128              | 1m 57s       | 6.5%             |"
      ]
     },
     "metadata": {},
     "output_type": "display_data"
    },
    {
     "data": {
      "text/html": [
       "<pre>| 192              | 1m 57s       | 10%              |</pre>"
      ],
      "text/plain": [
       "| 192              | 1m 57s       | 10%              |"
      ]
     },
     "metadata": {},
     "output_type": "display_data"
    },
    {
     "data": {
      "text/html": [
       "<pre>| 256              | 1m 58s       | 13.25%           |</pre>"
      ],
      "text/plain": [
       "| 256              | 1m 58s       | 13.25%           |"
      ]
     },
     "metadata": {},
     "output_type": "display_data"
    },
    {
     "data": {
      "text/html": [
       "<pre>| 320              | 3m 34s       | 16.5%            |</pre>"
      ],
      "text/plain": [
       "| 320              | 3m 34s       | 16.5%            |"
      ]
     },
     "metadata": {},
     "output_type": "display_data"
    },
    {
     "data": {
      "text/html": [
       "<pre>| 448              | 3m 37s       | 23.25%           |</pre>"
      ],
      "text/plain": [
       "| 448              | 3m 37s       | 23.25%           |"
      ]
     },
     "metadata": {},
     "output_type": "display_data"
    },
    {
     "data": {
      "text/html": [
       "<pre>| 512              | 3m 38s       | 26.5%            |</pre>"
      ],
      "text/plain": [
       "| 512              | 3m 38s       | 26.5%            |"
      ]
     },
     "metadata": {},
     "output_type": "display_data"
    },
    {
     "data": {
      "text/html": [
       "<pre>| 576              | 5m 22s       | 30%              |</pre>"
      ],
      "text/plain": [
       "| 576              | 5m 22s       | 30%              |"
      ]
     },
     "metadata": {},
     "output_type": "display_data"
    },
    {
     "data": {
      "text/html": [
       "<pre>| 640              | 5m 25s       | 33.25%           |</pre>"
      ],
      "text/plain": [
       "| 640              | 5m 25s       | 33.25%           |"
      ]
     },
     "metadata": {},
     "output_type": "display_data"
    },
    {
     "data": {
      "text/html": [
       "<pre>| 704              | 5m 26s       | 36.5%            |</pre>"
      ],
      "text/plain": [
       "| 704              | 5m 26s       | 36.5%            |"
      ]
     },
     "metadata": {},
     "output_type": "display_data"
    },
    {
     "data": {
      "text/html": [
       "<pre>| 768              | 5m 27s       | 40%              |</pre>"
      ],
      "text/plain": [
       "| 768              | 5m 27s       | 40%              |"
      ]
     },
     "metadata": {},
     "output_type": "display_data"
    },
    {
     "data": {
      "text/html": [
       "<pre>| 832              | 6m 12s       | 43.25%           |</pre>"
      ],
      "text/plain": [
       "| 832              | 6m 12s       | 43.25%           |"
      ]
     },
     "metadata": {},
     "output_type": "display_data"
    },
    {
     "data": {
      "text/html": [
       "<pre>| 896              | 6m 20s       | 46.5%            |</pre>"
      ],
      "text/plain": [
       "| 896              | 6m 20s       | 46.5%            |"
      ]
     },
     "metadata": {},
     "output_type": "display_data"
    },
    {
     "data": {
      "text/html": [
       "<pre>| 960              | 6m 21s       | 50%              |</pre>"
      ],
      "text/plain": [
       "| 960              | 6m 21s       | 50%              |"
      ]
     },
     "metadata": {},
     "output_type": "display_data"
    },
    {
     "data": {
      "text/html": [
       "<pre>| 1024             | 6m 22s       | 53.25%           |</pre>"
      ],
      "text/plain": [
       "| 1024             | 6m 22s       | 53.25%           |"
      ]
     },
     "metadata": {},
     "output_type": "display_data"
    },
    {
     "data": {
      "text/html": [
       "<pre>| 1088             | 6m 57s       | 56.5%            |</pre>"
      ],
      "text/plain": [
       "| 1088             | 6m 57s       | 56.5%            |"
      ]
     },
     "metadata": {},
     "output_type": "display_data"
    },
    {
     "data": {
      "text/html": [
       "<pre>| 1152             | 7m 18s       | 60%              |</pre>"
      ],
      "text/plain": [
       "| 1152             | 7m 18s       | 60%              |"
      ]
     },
     "metadata": {},
     "output_type": "display_data"
    },
    {
     "data": {
      "text/html": [
       "<pre>| 1216             | 7m 19s       | 63.25%           |</pre>"
      ],
      "text/plain": [
       "| 1216             | 7m 19s       | 63.25%           |"
      ]
     },
     "metadata": {},
     "output_type": "display_data"
    },
    {
     "data": {
      "text/html": [
       "<pre>| 1280             | 7m 20s       | 66.5%            |</pre>"
      ],
      "text/plain": [
       "| 1280             | 7m 20s       | 66.5%            |"
      ]
     },
     "metadata": {},
     "output_type": "display_data"
    },
    {
     "data": {
      "text/html": [
       "<pre>| 1344             | 7m 38s       | 70%              |</pre>"
      ],
      "text/plain": [
       "| 1344             | 7m 38s       | 70%              |"
      ]
     },
     "metadata": {},
     "output_type": "display_data"
    },
    {
     "data": {
      "text/html": [
       "<pre>| 1408             | 8m 13s       | 73.25%           |</pre>"
      ],
      "text/plain": [
       "| 1408             | 8m 13s       | 73.25%           |"
      ]
     },
     "metadata": {},
     "output_type": "display_data"
    },
    {
     "data": {
      "text/html": [
       "<pre>| 1472             | 8m 16s       | 76.5%            |</pre>"
      ],
      "text/plain": [
       "| 1472             | 8m 16s       | 76.5%            |"
      ]
     },
     "metadata": {},
     "output_type": "display_data"
    },
    {
     "data": {
      "text/html": [
       "<pre>| 1536             | 8m 17s       | 80%              |</pre>"
      ],
      "text/plain": [
       "| 1536             | 8m 17s       | 80%              |"
      ]
     },
     "metadata": {},
     "output_type": "display_data"
    },
    {
     "data": {
      "text/html": [
       "<pre>| 1600             | 8m 25s       | 83.25%           |</pre>"
      ],
      "text/plain": [
       "| 1600             | 8m 25s       | 83.25%           |"
      ]
     },
     "metadata": {},
     "output_type": "display_data"
    },
    {
     "data": {
      "text/html": [
       "<pre>| 1664             | 8m 56s       | 86.5%            |</pre>"
      ],
      "text/plain": [
       "| 1664             | 8m 56s       | 86.5%            |"
      ]
     },
     "metadata": {},
     "output_type": "display_data"
    },
    {
     "data": {
      "text/html": [
       "<pre>| 1728             | 9m 1s        | 90%              |</pre>"
      ],
      "text/plain": [
       "| 1728             | 9m 1s        | 90%              |"
      ]
     },
     "metadata": {},
     "output_type": "display_data"
    },
    {
     "data": {
      "text/html": [
       "<pre>| 1792             | 9m 2s        | 93.25%           |</pre>"
      ],
      "text/plain": [
       "| 1792             | 9m 2s        | 93.25%           |"
      ]
     },
     "metadata": {},
     "output_type": "display_data"
    },
    {
     "data": {
      "text/html": [
       "<pre>| 1856             | 9m 14s       | 96.5%            |</pre>"
      ],
      "text/plain": [
       "| 1856             | 9m 14s       | 96.5%            |"
      ]
     },
     "metadata": {},
     "output_type": "display_data"
    },
    {
     "data": {
      "text/html": [
       "<pre>| 1885             | 9m 19s       | 100%             |</pre>"
      ],
      "text/plain": [
       "| 1885             | 9m 19s       | 100%             |"
      ]
     },
     "metadata": {},
     "output_type": "display_data"
    },
    {
     "data": {
      "text/html": [
       "<pre>+------------------+--------------+------------------+</pre>"
      ],
      "text/plain": [
       "+------------------+--------------+------------------+"
      ]
     },
     "metadata": {},
     "output_type": "display_data"
    },
    {
     "name": "stdout",
     "output_type": "stream",
     "text": [
      "PROGRESS: Creating a validation set from 5 percent of training data. This may take a while.\n",
      "          You can set ``validation_set=None`` to disable validation tracking.\n",
      "\n"
     ]
    },
    {
     "data": {
      "text/html": [
       "<pre>Logistic regression:</pre>"
      ],
      "text/plain": [
       "Logistic regression:"
      ]
     },
     "metadata": {},
     "output_type": "display_data"
    },
    {
     "data": {
      "text/html": [
       "<pre>--------------------------------------------------------</pre>"
      ],
      "text/plain": [
       "--------------------------------------------------------"
      ]
     },
     "metadata": {},
     "output_type": "display_data"
    },
    {
     "data": {
      "text/html": [
       "<pre>Number of examples          : 1790</pre>"
      ],
      "text/plain": [
       "Number of examples          : 1790"
      ]
     },
     "metadata": {},
     "output_type": "display_data"
    },
    {
     "data": {
      "text/html": [
       "<pre>Number of classes           : 2</pre>"
      ],
      "text/plain": [
       "Number of classes           : 2"
      ]
     },
     "metadata": {},
     "output_type": "display_data"
    },
    {
     "data": {
      "text/html": [
       "<pre>Number of feature columns   : 1</pre>"
      ],
      "text/plain": [
       "Number of feature columns   : 1"
      ]
     },
     "metadata": {},
     "output_type": "display_data"
    },
    {
     "data": {
      "text/html": [
       "<pre>Number of unpacked features : 2048</pre>"
      ],
      "text/plain": [
       "Number of unpacked features : 2048"
      ]
     },
     "metadata": {},
     "output_type": "display_data"
    },
    {
     "data": {
      "text/html": [
       "<pre>Number of coefficients      : 2049</pre>"
      ],
      "text/plain": [
       "Number of coefficients      : 2049"
      ]
     },
     "metadata": {},
     "output_type": "display_data"
    },
    {
     "data": {
      "text/html": [
       "<pre>Starting L-BFGS</pre>"
      ],
      "text/plain": [
       "Starting L-BFGS"
      ]
     },
     "metadata": {},
     "output_type": "display_data"
    },
    {
     "data": {
      "text/html": [
       "<pre>--------------------------------------------------------</pre>"
      ],
      "text/plain": [
       "--------------------------------------------------------"
      ]
     },
     "metadata": {},
     "output_type": "display_data"
    },
    {
     "data": {
      "text/html": [
       "<pre>+-----------+----------+-----------+--------------+-------------------+---------------------+</pre>"
      ],
      "text/plain": [
       "+-----------+----------+-----------+--------------+-------------------+---------------------+"
      ]
     },
     "metadata": {},
     "output_type": "display_data"
    },
    {
     "data": {
      "text/html": [
       "<pre>| Iteration | Passes   | Step size | Elapsed Time | Training Accuracy | Validation Accuracy |</pre>"
      ],
      "text/plain": [
       "| Iteration | Passes   | Step size | Elapsed Time | Training Accuracy | Validation Accuracy |"
      ]
     },
     "metadata": {},
     "output_type": "display_data"
    },
    {
     "data": {
      "text/html": [
       "<pre>+-----------+----------+-----------+--------------+-------------------+---------------------+</pre>"
      ],
      "text/plain": [
       "+-----------+----------+-----------+--------------+-------------------+---------------------+"
      ]
     },
     "metadata": {},
     "output_type": "display_data"
    },
    {
     "data": {
      "text/html": [
       "<pre>| 0         | 7        | 0.004407  | 0.898029     | 0.804469          | 0.821053            |</pre>"
      ],
      "text/plain": [
       "| 0         | 7        | 0.004407  | 0.898029     | 0.804469          | 0.821053            |"
      ]
     },
     "metadata": {},
     "output_type": "display_data"
    },
    {
     "data": {
      "text/html": [
       "<pre>| 1         | 14       | 6.015681  | 1.925105     | 0.826816          | 0.831579            |</pre>"
      ],
      "text/plain": [
       "| 1         | 14       | 6.015681  | 1.925105     | 0.826816          | 0.831579            |"
      ]
     },
     "metadata": {},
     "output_type": "display_data"
    },
    {
     "data": {
      "text/html": [
       "<pre>| 2         | 15       | 6.015681  | 2.240456     | 0.942458          | 0.968421            |</pre>"
      ],
      "text/plain": [
       "| 2         | 15       | 6.015681  | 2.240456     | 0.942458          | 0.968421            |"
      ]
     },
     "metadata": {},
     "output_type": "display_data"
    },
    {
     "data": {
      "text/html": [
       "<pre>| 3         | 17       | 2.580632  | 2.685583     | 1.000000          | 1.000000            |</pre>"
      ],
      "text/plain": [
       "| 3         | 17       | 2.580632  | 2.685583     | 1.000000          | 1.000000            |"
      ]
     },
     "metadata": {},
     "output_type": "display_data"
    },
    {
     "data": {
      "text/html": [
       "<pre>| 4         | 19       | 2.580632  | 3.127058     | 1.000000          | 1.000000            |</pre>"
      ],
      "text/plain": [
       "| 4         | 19       | 2.580632  | 3.127058     | 1.000000          | 1.000000            |"
      ]
     },
     "metadata": {},
     "output_type": "display_data"
    },
    {
     "data": {
      "text/html": [
       "<pre>| 9         | 26       | 2.580632  | 4.865905     | 1.000000          | 1.000000            |</pre>"
      ],
      "text/plain": [
       "| 9         | 26       | 2.580632  | 4.865905     | 1.000000          | 1.000000            |"
      ]
     },
     "metadata": {},
     "output_type": "display_data"
    },
    {
     "data": {
      "text/html": [
       "<pre>+-----------+----------+-----------+--------------+-------------------+---------------------+</pre>"
      ],
      "text/plain": [
       "+-----------+----------+-----------+--------------+-------------------+---------------------+"
      ]
     },
     "metadata": {},
     "output_type": "display_data"
    }
   ],
   "source": [
    "model = tc.image_classifier.create(train_data, target='label')"
   ]
  },
  {
   "cell_type": "code",
   "execution_count": 8,
   "metadata": {},
   "outputs": [],
   "source": [
    "predictions = model.predict(test_data)"
   ]
  },
  {
   "cell_type": "code",
   "execution_count": 9,
   "metadata": {},
   "outputs": [
    {
     "data": {
      "text/html": [
       "<pre>Analyzing and extracting image features.</pre>"
      ],
      "text/plain": [
       "Analyzing and extracting image features."
      ]
     },
     "metadata": {},
     "output_type": "display_data"
    },
    {
     "data": {
      "text/html": [
       "<pre>+------------------+--------------+------------------+</pre>"
      ],
      "text/plain": [
       "+------------------+--------------+------------------+"
      ]
     },
     "metadata": {},
     "output_type": "display_data"
    },
    {
     "data": {
      "text/html": [
       "<pre>| Images Processed | Elapsed Time | Percent Complete |</pre>"
      ],
      "text/plain": [
       "| Images Processed | Elapsed Time | Percent Complete |"
      ]
     },
     "metadata": {},
     "output_type": "display_data"
    },
    {
     "data": {
      "text/html": [
       "<pre>+------------------+--------------+------------------+</pre>"
      ],
      "text/plain": [
       "+------------------+--------------+------------------+"
      ]
     },
     "metadata": {},
     "output_type": "display_data"
    },
    {
     "data": {
      "text/html": [
       "<pre>| 64               | 49.42s       | 12.5%            |</pre>"
      ],
      "text/plain": [
       "| 64               | 49.42s       | 12.5%            |"
      ]
     },
     "metadata": {},
     "output_type": "display_data"
    },
    {
     "data": {
      "text/html": [
       "<pre>| 128              | 50.26s       | 25%              |</pre>"
      ],
      "text/plain": [
       "| 128              | 50.26s       | 25%              |"
      ]
     },
     "metadata": {},
     "output_type": "display_data"
    },
    {
     "data": {
      "text/html": [
       "<pre>| 192              | 50.51s       | 37.5%            |</pre>"
      ],
      "text/plain": [
       "| 192              | 50.51s       | 37.5%            |"
      ]
     },
     "metadata": {},
     "output_type": "display_data"
    },
    {
     "data": {
      "text/html": [
       "<pre>| 256              | 50.78s       | 50%              |</pre>"
      ],
      "text/plain": [
       "| 256              | 50.78s       | 50%              |"
      ]
     },
     "metadata": {},
     "output_type": "display_data"
    },
    {
     "data": {
      "text/html": [
       "<pre>| 320              | 1m 12s       | 62.5%            |</pre>"
      ],
      "text/plain": [
       "| 320              | 1m 12s       | 62.5%            |"
      ]
     },
     "metadata": {},
     "output_type": "display_data"
    },
    {
     "data": {
      "text/html": [
       "<pre>| 448              | 1m 32s       | 87.5%            |</pre>"
      ],
      "text/plain": [
       "| 448              | 1m 32s       | 87.5%            |"
      ]
     },
     "metadata": {},
     "output_type": "display_data"
    },
    {
     "data": {
      "text/html": [
       "<pre>| 482              | 1m 33s       | 100%             |</pre>"
      ],
      "text/plain": [
       "| 482              | 1m 33s       | 100%             |"
      ]
     },
     "metadata": {},
     "output_type": "display_data"
    },
    {
     "data": {
      "text/html": [
       "<pre>+------------------+--------------+------------------+</pre>"
      ],
      "text/plain": [
       "+------------------+--------------+------------------+"
      ]
     },
     "metadata": {},
     "output_type": "display_data"
    },
    {
     "name": "stdout",
     "output_type": "stream",
     "text": [
      "{'accuracy': 1.0, 'f1_score': 1.0, 'log_loss': 7.460238907399258e-05, 'precision': 1.0, 'recall': 1.0, 'auc': 0.9999999999999992, 'roc_curve': Columns:\n",
      "\tthreshold\tfloat\n",
      "\tfpr\tfloat\n",
      "\ttpr\tfloat\n",
      "\tp\tint\n",
      "\tn\tint\n",
      "\n",
      "Rows: 100001\n",
      "\n",
      "Data:\n",
      "+-----------+---------------------+-----+-----+----+\n",
      "| threshold |         fpr         | tpr |  p  | n  |\n",
      "+-----------+---------------------+-----+-----+----+\n",
      "|    0.0    |         1.0         | 1.0 | 397 | 85 |\n",
      "|   1e-05   | 0.47058823529411764 | 1.0 | 397 | 85 |\n",
      "|   2e-05   | 0.43529411764705883 | 1.0 | 397 | 85 |\n",
      "|   3e-05   |  0.4117647058823529 | 1.0 | 397 | 85 |\n",
      "|   4e-05   | 0.38823529411764707 | 1.0 | 397 | 85 |\n",
      "|   5e-05   |  0.3764705882352941 | 1.0 | 397 | 85 |\n",
      "|   6e-05   | 0.35294117647058826 | 1.0 | 397 | 85 |\n",
      "|   7e-05   |  0.3058823529411765 | 1.0 | 397 | 85 |\n",
      "|   8e-05   |  0.3058823529411765 | 1.0 | 397 | 85 |\n",
      "|   9e-05   | 0.29411764705882354 | 1.0 | 397 | 85 |\n",
      "+-----------+---------------------+-----+-----+----+\n",
      "[100001 rows x 5 columns]\n",
      "Note: Only the head of the SFrame is printed.\n",
      "You can use print_rows(num_rows=m, num_columns=n) to print more rows and columns., 'confusion_matrix': Columns:\n",
      "\ttarget_label\tstr\n",
      "\tpredicted_label\tstr\n",
      "\tcount\tint\n",
      "\n",
      "Rows: 2\n",
      "\n",
      "Data:\n",
      "+--------------+-----------------+-------+\n",
      "| target_label | predicted_label | count |\n",
      "+--------------+-----------------+-------+\n",
      "|   addidas    |     addidas     |  397  |\n",
      "|  Timberland  |    Timberland   |   85  |\n",
      "+--------------+-----------------+-------+\n",
      "[2 rows x 3 columns]\n",
      ", 'num_test_examples': 482, 'num_classes': 2, 'num_features': 1, 'input_image_shape': (3, 224, 224), 'num_examples': 1790, 'training_loss': 0.34913024139643284, 'training_time': 590.2672309875488, 'model': 'resnet-50', 'max_iterations': 10, 'model_name': 'resnet-50', 'confidence_threshold': 0.5, 'hesitant_threshold': 0.2, 'confidence_metric_for_threshold': 'relative_confidence', 'conf_mat': [{'target_label': 'Timberland', 'predicted_label': 'Timberland', 'prob_default': 0, 'count': 85, 'prob': 84.97566936709815, 'norm_prob': 0.9997137572599779}, {'target_label': 'Timberland', 'predicted_label': 'addidas', 'prob_default': 0, 'count': 0, 'prob': 0.024330632901885682, 'norm_prob': 0.0002862427400221844}, {'target_label': 'addidas', 'predicted_label': 'Timberland', 'prob_default': 0, 'count': 0, 'prob': 0.011594514652646937, 'norm_prob': 2.9205326580974648e-05}, {'target_label': 'addidas', 'predicted_label': 'addidas', 'prob_default': 0, 'count': 397, 'prob': 396.9884054853474, 'norm_prob': 0.999970794673419}], 'sorted_labels': ['Timberland', 'addidas'], 'label_metrics': [{'label': 'addidas', 'count': 397, 'correct_count': 397, 'predicted_count': 397, 'recall': 1.0, 'precision': 1.0}, {'label': 'Timberland', 'count': 85, 'correct_count': 85, 'predicted_count': 85, 'recall': 1.0, 'precision': 1.0}], 'labels': ['Timberland', 'addidas'], 'test_data': Columns:\n",
      "\t__idx\tint\n",
      "\tid\tint\n",
      "\tpath\tstr\n",
      "\timage\tImage\n",
      "\ttarget_label\tstr\n",
      "\tprobs\tarray\n",
      "\tpredicted_label\tstr\n",
      "\tentropy\tfloat\n",
      "\tconfidence\tfloat\n",
      "\trelative_confidence\tfloat\n",
      "\tcorrect\tint\n",
      "\n",
      "Rows: 482\n",
      "\n",
      "Data:\n",
      "+-------+----+-------------------------------+--------------------------+\n",
      "| __idx | id |              path             |          image           |\n",
      "+-------+----+-------------------------------+--------------------------+\n",
      "|   0   | 2  | littler/Timberland/IMG_190... | Height: 1920 Width: 1080 |\n",
      "|   1   | 9  | littler/Timberland/IMG_190... | Height: 1920 Width: 1080 |\n",
      "|   2   | 23 | littler/Timberland/IMG_190... | Height: 1920 Width: 1080 |\n",
      "|   3   | 26 | littler/Timberland/IMG_190... | Height: 1920 Width: 1080 |\n",
      "|   4   | 27 | littler/Timberland/IMG_190... | Height: 1920 Width: 1080 |\n",
      "|   5   | 30 | littler/Timberland/IMG_190... | Height: 1920 Width: 1080 |\n",
      "|   6   | 32 | littler/Timberland/IMG_190... | Height: 1920 Width: 1080 |\n",
      "|   7   | 41 | littler/Timberland/IMG_190... | Height: 1920 Width: 1080 |\n",
      "|   8   | 50 | littler/Timberland/IMG_190... | Height: 1920 Width: 1080 |\n",
      "|   9   | 63 | littler/Timberland/IMG_190... | Height: 1920 Width: 1080 |\n",
      "+-------+----+-------------------------------+--------------------------+\n",
      "+--------------+-------------------------------+-----------------+\n",
      "| target_label |             probs             | predicted_label |\n",
      "+--------------+-------------------------------+-----------------+\n",
      "|  Timberland  | [0.9999343948051478, 6.560... |    Timberland   |\n",
      "|  Timberland  | [0.9999349378681619, 6.506... |    Timberland   |\n",
      "|  Timberland  | [0.9997268002510433, 0.000... |    Timberland   |\n",
      "|  Timberland  | [0.9954492208334746, 0.004... |    Timberland   |\n",
      "|  Timberland  | [0.9983202322954062, 0.001... |    Timberland   |\n",
      "|  Timberland  | [0.9999123782152148, 8.762... |    Timberland   |\n",
      "|  Timberland  | [0.9985387903689832, 0.001... |    Timberland   |\n",
      "|  Timberland  | [0.9998821657703696, 0.000... |    Timberland   |\n",
      "|  Timberland  | [0.9998411241919306, 0.000... |    Timberland   |\n",
      "|  Timberland  | [0.9995969771105226, 0.000... |    Timberland   |\n",
      "+--------------+-------------------------------+-----------------+\n",
      "+-----------------------+--------------------+---------------------+---------+\n",
      "|        entropy        |     confidence     | relative_confidence | correct |\n",
      "+-----------------------+--------------------+---------------------+---------+\n",
      "| 0.0010062838466565417 | 0.9999343948051478 | -0.9998687896102956 |    1    |\n",
      "|  0.000998734334609951 | 0.9999349378681619 | -0.9998698757363238 |    1    |\n",
      "|  0.003628162106032845 | 0.9997268002510433 | -0.9994536005020866 |    1    |\n",
      "|  0.04195398838040402  | 0.9954492208334746 | -0.9908984416669493 |    1    |\n",
      "|  0.017904652721639037 | 0.9983202322954062 | -0.9966404645908125 |    1    |\n",
      "| 0.0013074031354680896 | 0.9999123782152148 | -0.9998247564304297 |    1    |\n",
      "|  0.015869118851144087 | 0.9985387903689832 | -0.9970775807379664 |    1    |\n",
      "|  0.001707837916672966 | 0.9998821657703696 | -0.9997643315407392 |    1    |\n",
      "|  0.002234174106339612 | 0.9998411241919306 | -0.9996822483838612 |    1    |\n",
      "|  0.005126150855191838 | 0.9995969771105226 | -0.9991939542210453 |    1    |\n",
      "+-----------------------+--------------------+---------------------+---------+\n",
      "[482 rows x 11 columns]\n",
      "Note: Only the head of the SFrame is printed.\n",
      "You can use print_rows(num_rows=m, num_columns=n) to print more rows and columns., 'feature': 'image'}\n"
     ]
    }
   ],
   "source": [
    "metrics = model.evaluate(test_data)\n",
    "print(metrics)"
   ]
  },
  {
   "cell_type": "code",
   "execution_count": 10,
   "metadata": {},
   "outputs": [
    {
     "data": {
      "text/html": [
       "<div style=\"max-height:1000px;max-width:1500px;overflow:auto;\"><table frame=\"box\" rules=\"cols\">\n",
       "    <tr>\n",
       "        <th style=\"padding-left: 1em; padding-right: 1em; text-align: center\">id</th>\n",
       "        <th style=\"padding-left: 1em; padding-right: 1em; text-align: center\">path</th>\n",
       "        <th style=\"padding-left: 1em; padding-right: 1em; text-align: center\">image</th>\n",
       "        <th style=\"padding-left: 1em; padding-right: 1em; text-align: center\">label</th>\n",
       "    </tr>\n",
       "</table>\n",
       "[0 rows x 4 columns]<br/>\n",
       "</div>"
      ],
      "text/plain": [
       "Columns:\n",
       "\tid\tint\n",
       "\tpath\tstr\n",
       "\timage\tImage\n",
       "\tlabel\tstr\n",
       "\n",
       "Rows: 0\n",
       "\n",
       "Data:\n",
       "\t[]"
      ]
     },
     "execution_count": 10,
     "metadata": {},
     "output_type": "execute_result"
    }
   ],
   "source": [
    "test_data[test_data['label'] != predictions]"
   ]
  },
  {
   "cell_type": "code",
   "execution_count": 11,
   "metadata": {},
   "outputs": [
    {
     "name": "stderr",
     "output_type": "stream",
     "text": [
      "WARNING:root:TensorFlow version 1.14.0 detected. Last version known to be fully compatible is 1.13.1 .\n"
     ]
    }
   ],
   "source": [
    "model.export_coreml('test2.mlmodel')"
   ]
  },
  {
   "cell_type": "code",
   "execution_count": 12,
   "metadata": {},
   "outputs": [
    {
     "data": {
      "text/plain": [
       "dtype: str\n",
       "Rows: 31\n",
       "['addidas', 'addidas', 'Timberland', 'addidas', 'addidas', 'addidas', 'addidas', 'addidas', 'Timberland', 'addidas', 'addidas', 'addidas', 'addidas', 'addidas', 'addidas', 'addidas', 'addidas', 'addidas', 'addidas', 'addidas', 'addidas', 'Timberland', 'addidas', 'addidas', 'Timberland', 'addidas', 'addidas', 'addidas', 'addidas', 'addidas', 'addidas']"
      ]
     },
     "execution_count": 12,
     "metadata": {},
     "output_type": "execute_result"
    }
   ],
   "source": [
    "test_folder = 'test/'\n",
    "a = tc.image_analysis.load_images(test_folder,with_path=True)\n",
    "model.predict(a)\n"
   ]
  },
  {
   "cell_type": "code",
   "execution_count": null,
   "metadata": {},
   "outputs": [],
   "source": []
  }
 ],
 "metadata": {
  "kernelspec": {
   "display_name": "Python 3",
   "language": "python",
   "name": "python3"
  },
  "language_info": {
   "codemirror_mode": {
    "name": "ipython",
    "version": 3
   },
   "file_extension": ".py",
   "mimetype": "text/x-python",
   "name": "python",
   "nbconvert_exporter": "python",
   "pygments_lexer": "ipython3",
   "version": "3.7.3"
  }
 },
 "nbformat": 4,
 "nbformat_minor": 2
}
